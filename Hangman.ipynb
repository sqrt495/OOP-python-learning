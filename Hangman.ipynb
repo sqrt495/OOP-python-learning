{
 "cells": [
  {
   "cell_type": "code",
   "execution_count": 1,
   "id": "701605a7-f746-4490-b9c3-0d40f1d0fbb9",
   "metadata": {
    "tags": []
   },
   "outputs": [],
   "source": [
    "# !pip install wonderwords\n",
    "# !pip install translate"
   ]
  },
  {
   "cell_type": "code",
   "execution_count": 2,
   "id": "bd2603cc-0b66-4b13-aa20-72bcfeaad4d1",
   "metadata": {
    "scrolled": true,
    "tags": []
   },
   "outputs": [],
   "source": [
    "import requests\n",
    "import random"
   ]
  },
  {
   "cell_type": "code",
   "execution_count": 3,
   "id": "46b69990-b289-4b84-b200-233af3302b4e",
   "metadata": {
    "tags": []
   },
   "outputs": [],
   "source": [
    "# pics\n",
    "gallow_symb_list = []\n",
    "gallow_symb_list.append('test')\n",
    "gallow_symb_list.append(['____',\n",
    "                        '|/',\n",
    "                        '|',\n",
    "                        '|',\n",
    "                        '|',\n",
    "                        '|',\n",
    "                        'П'])\n",
    "\n",
    "gallow_symb_list.append(['____',\n",
    "                        '|/   |',\n",
    "                        '|',\n",
    "                        '|',\n",
    "                        '|',\n",
    "                        '|',\n",
    "                        'П'])\n",
    "\n",
    "gallow_symb_list.append(['____',\n",
    "                        '|/   |',\n",
    "                        '|    о',\n",
    "                        '|',\n",
    "                        '|',\n",
    "                        '|',\n",
    "                        'П'])\n",
    "\n",
    "gallow_symb_list.append(['____',\n",
    "                        '|/   |',\n",
    "                        '|    о',\n",
    "                        '|    T',\n",
    "                        '|',\n",
    "                        '|',\n",
    "                        'П'])\n",
    "\n",
    "gallow_symb_list.append(['____',\n",
    "                        '|/   |',\n",
    "                        '|    о',\n",
    "                        '|    T',\n",
    "                        '|    П',\n",
    "                        '|',\n",
    "                        'П'])\n",
    "\n",
    "gallow_symb_list.append(['____',\n",
    "                        '|/   |',\n",
    "                        '|    X',\n",
    "                        '|    |',\n",
    "                        '|    П',\n",
    "                        '|',\n",
    "                        'П'])"
   ]
  },
  {
   "cell_type": "code",
   "execution_count": 16,
   "id": "07becb89-da9f-4469-b581-3751f3e14048",
   "metadata": {
    "tags": []
   },
   "outputs": [],
   "source": [
    "# word\n",
    "from wonderwords import RandomWord\n",
    "from translate import Translator\n",
    "\n",
    "def create_word():\n",
    "    w = RandomWord()\n",
    "    eng_word = w.word(include_categories=[\"noun\"])\n",
    "    # sometimes work wrong\n",
    "    translator= Translator(from_lang=\"English\",to_lang=\"russian\")\n",
    "    word = translator.translate(eng_word).lower()\n",
    "    # word\n",
    "    mask = '*'\n",
    "    masked_word = mask * len(word)\n",
    "    return word, mask, masked_word"
   ]
  },
  {
   "cell_type": "code",
   "execution_count": 18,
   "id": "fb744ff8-8af3-414a-adae-b9e7b7d3d5c4",
   "metadata": {
    "tags": []
   },
   "outputs": [],
   "source": [
    "# defs\n",
    "def check_the_answer(word, masked_word, answer):\n",
    "    includes = [i for i, x in enumerate(list(word)) if x == answer]\n",
    "    masked_word = list(masked_word)\n",
    "    for i in includes:\n",
    "        masked_word[i] = answer\n",
    "    masked_word = \"\".join(masked_word)    \n",
    "    return masked_word\n",
    "\n",
    "def checked(word, answer, masked_word, error_number):\n",
    "    if error_number != 6:\n",
    "        print(f'Буквы \"{answer}\" нет в слове {masked_word}. Попробуй еще, у тебя осталось {6-error_number} попыток...')\n",
    "        draw_gallow(error_number)\n",
    "    else:\n",
    "        draw_gallow(error_number)\n",
    "        epitaph = f'Тебе не удалось угадать слово \"{word}\" ты проиграл.'\n",
    "        print(epitaph,'✝'*len(epitaph),'\\n\\n\\n', sep='\\n')\n",
    "        \n",
    "def print_stat(error_number, asked_chars):\n",
    "    print(f'Совершено ошибок: {error_number}\\nПроверены буквы: {asked_chars}')\n",
    "\n",
    "def draw_gallow(error_number):\n",
    "    for _ in gallow_symb_list[error_number]:\n",
    "        print(_)"
   ]
  },
  {
   "cell_type": "code",
   "execution_count": 19,
   "id": "4134ed88-e62c-48d7-8b1b-e6aa9d74b3c4",
   "metadata": {
    "tags": []
   },
   "outputs": [],
   "source": [
    "# main def\n",
    "def attempt(word, masked_word, asked_chars, attempts_counter, error_number):\n",
    "    answer = input(f'\\nКакую букву проверяем?')\n",
    "\n",
    "    if answer in asked_chars:\n",
    "        print('Уже была эта буква, укажи другую...') # debug\n",
    "\n",
    "    else:\n",
    "        if attempts_counter != 0:\n",
    "            print(f'Попытка № {attempts_counter+1}')\n",
    "            asked_chars += ','\n",
    "\n",
    "        attempts_counter +=1\n",
    "        asked_chars += answer\n",
    "\n",
    "        if answer in word:\n",
    "            if masked_word.count('*') == 0:\n",
    "                print('Слово разгадано!')\n",
    "            else:\n",
    "                masked_word = check_the_answer(word, masked_word, answer)\n",
    "                print(f'Верно, такая буква есть!')\n",
    "                print_stat(error_number, asked_chars)\n",
    "                print(f'Продолжаем игру, угадай слово: {masked_word}')\n",
    "        else:\n",
    "            error_number += 1\n",
    "            print_stat(error_number, asked_chars)\n",
    "            checked(word, answer, masked_word, error_number)\n",
    "                    \n",
    "    return masked_word, answer, asked_chars, attempts_counter, error_number"
   ]
  },
  {
   "cell_type": "code",
   "execution_count": 21,
   "id": "8c01947c-91d8-40dd-a120-a4686b1eb8b3",
   "metadata": {
    "tags": []
   },
   "outputs": [],
   "source": [
    "# game\n",
    "if __name__ == '__main__':\n",
    "    while True:\n",
    "        for_start = input('ИГРА ВИСЕЛИЦА\\nХотите начать игру? \\nВведите букву \"н\":')\n",
    "        if for_start == 'н':\n",
    "            word, mask, masked_word = create_word()\n",
    "            attempts_counter = 0\n",
    "            error_number = 0\n",
    "            asked_chars = ''\n",
    "            print(f'Угадай слово: {mask * len(word)}')\n",
    "            while error_number < 6:\n",
    "                masked_word, answer, asked_chars, attempts_counter, error_number = attempt(word, masked_word, asked_chars, attempts_counter, error_number)\n",
    "        else:\n",
    "            print('Пока!')\n",
    "            break"
   ]
  },
  {
   "cell_type": "code",
   "execution_count": null,
   "id": "b3eab5f3-c0ba-4188-9dda-d2ab2b6d547f",
   "metadata": {},
   "outputs": [],
   "source": []
  }
 ],
 "metadata": {
  "kernelspec": {
   "display_name": "Python 3 (ipykernel)",
   "language": "python",
   "name": "python3"
  },
  "language_info": {
   "codemirror_mode": {
    "name": "ipython",
    "version": 3
   },
   "file_extension": ".py",
   "mimetype": "text/x-python",
   "name": "python",
   "nbconvert_exporter": "python",
   "pygments_lexer": "ipython3",
   "version": "3.10.9"
  }
 },
 "nbformat": 4,
 "nbformat_minor": 5
}
