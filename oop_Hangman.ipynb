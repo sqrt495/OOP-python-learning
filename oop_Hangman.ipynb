{
 "cells": [
  {
   "cell_type": "code",
   "execution_count": 1,
   "id": "701605a7-f746-4490-b9c3-0d40f1d0fbb9",
   "metadata": {
    "tags": []
   },
   "outputs": [],
   "source": [
    "# !pip install wonderwords\n",
    "# !pip install translate"
   ]
  },
  {
   "cell_type": "code",
   "execution_count": 107,
   "id": "46b69990-b289-4b84-b200-233af3302b4e",
   "metadata": {
    "tags": []
   },
   "outputs": [],
   "source": [
    "# states = ['start', '1_miss', '2_miss', '3_miss', '4_miss', '5_miss', 'end']\n",
    "# pics\n",
    "gallow_symb_list = []\n",
    "gallow_symb_list.append('0')\n",
    "gallow_symb_list.append(['____',\n",
    "                        '|/',\n",
    "                        '|',\n",
    "                        '|',\n",
    "                        '|',\n",
    "                        '|',\n",
    "                        'П'])\n",
    "\n",
    "gallow_symb_list.append(['____',\n",
    "                        '|/   |',\n",
    "                        '|',\n",
    "                        '|',\n",
    "                        '|',\n",
    "                        '|',\n",
    "                        'П'])\n",
    "\n",
    "gallow_symb_list.append(['____',\n",
    "                        '|/   |',\n",
    "                        '|    о',\n",
    "                        '|',\n",
    "                        '|',\n",
    "                        '|',\n",
    "                        'П'])\n",
    "\n",
    "gallow_symb_list.append(['____',\n",
    "                        '|/   |',\n",
    "                        '|    о',\n",
    "                        '|    T',\n",
    "                        '|',\n",
    "                        '|',\n",
    "                        'П'])\n",
    "\n",
    "gallow_symb_list.append(['____',\n",
    "                        '|/   |',\n",
    "                        '|    о',\n",
    "                        '|    T',\n",
    "                        '|    П',\n",
    "                        '|',\n",
    "                        'П'])\n",
    "\n",
    "gallow_symb_list.append(['____',\n",
    "                        '|/   |',\n",
    "                        '|    X',\n",
    "                        '|    |',\n",
    "                        '|    П',\n",
    "                        '|',\n",
    "                        'П'])"
   ]
  },
  {
   "cell_type": "code",
   "execution_count": 86,
   "id": "a630f966",
   "metadata": {},
   "outputs": [],
   "source": [
    "from abc import ABCMeta, abstractmethod, abstractproperty\n",
    "class Entity():\n",
    "    __metaclass__=ABCMeta\n",
    "\n",
    "    @abstractmethod\n",
    "    def change_state():\n",
    "        \"\"\"изменить состояни\"\"\"\n",
    "        pass"
   ]
  },
  {
   "cell_type": "code",
   "execution_count": 118,
   "id": "e7a7e86c",
   "metadata": {},
   "outputs": [],
   "source": [
    "class Game(Entity):\n",
    "    def __init__(self, word):\n",
    "        self.word = word\n",
    "        self.state = 'new'\n",
    "        self.mask = '*'*len(self.word)\n",
    "        print(f'Угадай слово: {self.mask}\\n')\n",
    "        \n",
    "    def change_state(self,is_won):\n",
    "        if is_won == True:\n",
    "            self.state = 'won'\n",
    "            print(f'Точно - это слово \"{self.word}\"! Молодец!')\n",
    "        else:\n",
    "            self.state = 'losed'\n",
    "            epitaph = f'Тебе не удалось угадать слово \"{self.word}\" ты проиграл.'\n",
    "            print(epitaph,'✝'*len(epitaph),'\\n\\n\\n', sep='\\n')\n",
    "            \n",
    "    def open_word(self,latter):\n",
    "        includes = [i for i, x in enumerate(list(self.word)) if x == latter]\n",
    "        masked_word = list(self.mask)\n",
    "        for i in includes:\n",
    "            masked_word[i] = latter\n",
    "        self.mask = \"\".join(masked_word)"
   ]
  },
  {
   "cell_type": "code",
   "execution_count": 125,
   "id": "90de5f60",
   "metadata": {},
   "outputs": [],
   "source": [
    "# a=Game('good-day')"
   ]
  },
  {
   "cell_type": "code",
   "execution_count": 106,
   "id": "33808372",
   "metadata": {},
   "outputs": [],
   "source": [
    "# https://python-statemachine.readthedocs.io/en/latest/readme.html\n",
    "# https://github.com/pytransitions/transitions\n",
    "# !pip install transitions\n",
    "from transitions import Machine"
   ]
  },
  {
   "cell_type": "code",
   "execution_count": null,
   "id": "23f687dd",
   "metadata": {},
   "outputs": [],
   "source": [
    "class Attempt(object):\n",
    "    def __init__(self,step,checkedLatterArray,missingLatterArray):\n",
    "        self.step = 0\n",
    "        self.checkedLatterArray = {}\n",
    "        self.missingLatterArray = {}\n",
    "        \n",
    "    def new_step(self,latter):\n",
    "        answer = input(f'\\nКакую букву проверяем?')\n",
    "        if answer in list(self.checkedLatterArray.values()):\n",
    "            print('Уже была эта буква, укажи другую...')\n",
    "        else:\n",
    "            self.step += 1\n",
    "            print(f'Попытка № {self.step}')\n",
    "            self.checkedLatterArray[self.step] = latter\n",
    "            print(f'Попытка № {self.step}')\n",
    "                \n",
    "    def check_latter(self,game,latter):\n",
    "        if latter in game.word:\n",
    "            print(f'Верно, буква {latter} есть!')\n",
    "            game.open_word(latter)\n",
    "            print(f'Продолжаем игру, угадай слово: {game.mask} ?')\n",
    "        else:\n",
    "            print(f'Буквы \"{latter}\" нет в слове {game.mask}\\n',\n",
    "                  AttemptState.self.step() # вряд ли это работет https://habr.com/ru/articles/521946/\n",
    "                  AttemptState.state\n",
    "                  f'Попробуй еще, у тебя осталось {6-self.step} попыток...')"
   ]
  },
  {
   "cell_type": "code",
   "execution_count": null,
   "id": "421f5176",
   "metadata": {},
   "outputs": [],
   "source": [
    "AttemptState = Attempt()\n",
    "transitions = [\n",
    "    { 'trigger': 1, 'source': gallow_symb_list[0], 'dest': gallow_symb_list[1]},\n",
    "    { 'trigger': 2, 'source': gallow_symb_list[1], 'dest': gallow_symb_list[2]},\n",
    "    { 'trigger': 3, 'source': gallow_symb_list[2], 'dest': gallow_symb_list[3]},\n",
    "    { 'trigger': 4, 'source': gallow_symb_list[3], 'dest': gallow_symb_list[4]},\n",
    "    { 'trigger': 5, 'source': gallow_symb_list[4], 'dest': gallow_symb_list[5]},\n",
    "    { 'trigger': 6, 'source': gallow_symb_list[5], 'dest': gallow_symb_list[6]},\n",
    "]\n",
    "\n",
    "# Инициализация машины\n",
    "machine = Machine(AttemptState, states=gallow_symb_list, transitions=transitions, initial='0')"
   ]
  },
  {
   "cell_type": "code",
   "execution_count": null,
   "id": "cc3e9683",
   "metadata": {},
   "outputs": [],
   "source": []
  },
  {
   "cell_type": "code",
   "execution_count": null,
   "id": "2c7d123b",
   "metadata": {},
   "outputs": [],
   "source": []
  },
  {
   "cell_type": "code",
   "execution_count": null,
   "id": "09da52c7",
   "metadata": {},
   "outputs": [],
   "source": []
  },
  {
   "cell_type": "code",
   "execution_count": null,
   "id": "479c2922",
   "metadata": {},
   "outputs": [],
   "source": []
  },
  {
   "cell_type": "code",
   "execution_count": 1,
   "id": "bd2603cc-0b66-4b13-aa20-72bcfeaad4d1",
   "metadata": {
    "scrolled": true,
    "tags": []
   },
   "outputs": [],
   "source": [
    "import requests\n",
    "import random"
   ]
  },
  {
   "cell_type": "code",
   "execution_count": 3,
   "id": "07becb89-da9f-4469-b581-3751f3e14048",
   "metadata": {
    "tags": []
   },
   "outputs": [],
   "source": [
    "# word\n",
    "from wonderwords import RandomWord\n",
    "from translate import Translator\n",
    "\n",
    "def create_word():\n",
    "    w = RandomWord()\n",
    "    eng_word = w.word(include_categories=[\"noun\"])\n",
    "    # sometimes work wrong\n",
    "    translator= Translator(from_lang=\"English\",to_lang=\"russian\")\n",
    "    word = translator.translate(eng_word).lower()\n",
    "    # word\n",
    "    mask = '*'\n",
    "    masked_word = mask * len(word)\n",
    "    return word, mask, masked_word"
   ]
  },
  {
   "cell_type": "code",
   "execution_count": 4,
   "id": "fb744ff8-8af3-414a-adae-b9e7b7d3d5c4",
   "metadata": {
    "tags": []
   },
   "outputs": [],
   "source": [
    "# defs\n",
    "def check_the_answer(word, masked_word, answer):\n",
    "    includes = [i for i, x in enumerate(list(word)) if x == answer]\n",
    "    masked_word = list(masked_word)\n",
    "    for i in includes:\n",
    "        masked_word[i] = answer\n",
    "    masked_word = \"\".join(masked_word)    \n",
    "    return masked_word\n",
    "\n",
    "def checked(word, answer, masked_word, error_number):\n",
    "    if error_number != 6:\n",
    "        print(f'Буквы \"{answer}\" нет в слове {masked_word}. Попробуй еще, у тебя осталось {6-error_number} попыток...')\n",
    "        draw_gallow(error_number)\n",
    "    else:\n",
    "        draw_gallow(error_number)\n",
    "        epitaph = f'Тебе не удалось угадать слово \"{word}\" ты проиграл.'\n",
    "        print(epitaph,'✝'*len(epitaph),'\\n\\n\\n', sep='\\n')\n",
    "        \n",
    "def print_stat(error_number, asked_chars):\n",
    "    print(f'Совершено ошибок: {error_number}\\nПроверены буквы: {asked_chars}')\n",
    "\n",
    "def draw_gallow(error_number):\n",
    "    for _ in gallow_symb_list[error_number]:\n",
    "        print(_)"
   ]
  },
  {
   "cell_type": "code",
   "execution_count": 5,
   "id": "4134ed88-e62c-48d7-8b1b-e6aa9d74b3c4",
   "metadata": {
    "tags": []
   },
   "outputs": [],
   "source": [
    "# main def\n",
    "def attempt(word, masked_word, asked_chars, attempts_counter, error_number):\n",
    "    answer = input(f'\\nКакую букву проверяем?')\n",
    "\n",
    "    if answer in asked_chars:\n",
    "        print('Уже была эта буква, укажи другую...') # debug\n",
    "\n",
    "    else:\n",
    "        if attempts_counter != 0:\n",
    "            print(f'Попытка № {attempts_counter+1}')\n",
    "            asked_chars += ','\n",
    "\n",
    "        attempts_counter +=1\n",
    "        asked_chars += answer\n",
    "\n",
    "        if answer in word:\n",
    "            if masked_word.count('*') == 0:\n",
    "                print('Слово разгадано!')\n",
    "            else:\n",
    "                masked_word = check_the_answer(word, masked_word, answer)\n",
    "                print(f'Верно, такая буква есть!')\n",
    "                print_stat(error_number, asked_chars)\n",
    "                print(f'Продолжаем игру, угадай слово: {masked_word}')\n",
    "        else:\n",
    "            error_number += 1\n",
    "            print_stat(error_number, asked_chars)\n",
    "            checked(word, answer, masked_word, error_number)\n",
    "                    \n",
    "    return masked_word, answer, asked_chars, attempts_counter, error_number"
   ]
  },
  {
   "cell_type": "code",
   "execution_count": null,
   "id": "8c01947c-91d8-40dd-a120-a4686b1eb8b3",
   "metadata": {
    "tags": []
   },
   "outputs": [],
   "source": [
    "# game\n",
    "if __name__ == '__main__':\n",
    "    while True:\n",
    "        for_start = input('ИГРА ВИСЕЛИЦА\\nХотите начать игру? \\nВведите букву \"н\":')\n",
    "        if for_start == 'н':\n",
    "            word, mask, masked_word = create_word()\n",
    "            attempts_counter = 0\n",
    "            error_number = 0\n",
    "            asked_chars = ''\n",
    "            print(f'Угадай слово: {mask * len(word)}')\n",
    "            while error_number < 6:\n",
    "                masked_word, answer, asked_chars, attempts_counter, error_number = attempt(word, masked_word, asked_chars, attempts_counter, error_number)\n",
    "        else:\n",
    "            print('Пока!')\n",
    "            break"
   ]
  },
  {
   "cell_type": "code",
   "execution_count": null,
   "id": "9e047aa5-a195-4251-ab3f-7b7da08a2285",
   "metadata": {},
   "outputs": [],
   "source": []
  }
 ],
 "metadata": {
  "kernelspec": {
   "display_name": "Python 3 (ipykernel)",
   "language": "python",
   "name": "python3"
  },
  "language_info": {
   "codemirror_mode": {
    "name": "ipython",
    "version": 3
   },
   "file_extension": ".py",
   "mimetype": "text/x-python",
   "name": "python",
   "nbconvert_exporter": "python",
   "pygments_lexer": "ipython3",
   "version": "3.10.9"
  }
 },
 "nbformat": 4,
 "nbformat_minor": 5
}
